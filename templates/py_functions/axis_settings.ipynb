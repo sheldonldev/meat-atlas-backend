{
 "cells": [
  {
   "cell_type": "code",
   "execution_count": null,
   "metadata": {},
   "outputs": [],
   "source": [
    "def setX_quant(ax, ticks, step, label = ''):\n",
    "    ax.set_xticks(ticks)\n",
    "    ax.set_xlim(ticks[0]-step/2,ticks[-1]+step/2)\n",
    "    ax.set_xticklabels(ticks, rotation=0, ha='center', fontsize=TCK_size)\n",
    "    ax.set_xlabel(label, fontsize=LAB_size)\n",
    "    ax.xaxis.grid(True, linewidth=GRD_wid, color=GRD_clr, alpha=GRD_aph)\n",
    "    \n",
    "def setX_quali(ax, ticks, label = ''):\n",
    "    ax.set_xticklabels(ticks, rotation=90, ha='center', fontsize=TCK_size)\n",
    "    ax.set_xlabel(label, fontsize=LAB_size)\n",
    "    ax.xaxis.grid(True, linewidth=GRD_wid, color=GRD_clr, alpha=GRD_aph)\n",
    "\n",
    "def setY_quant(ax, y_max, label = ''):\n",
    "    tick_num = 9\n",
    "    step = y_max/(tick_num-1)\n",
    "    min_gap = 10\n",
    "    \n",
    "    if step < 1:\n",
    "        step = round(step,1)\n",
    "        dec=1\n",
    "    elif step < 10:\n",
    "        step = int(step)\n",
    "        dec=0\n",
    "    elif step/min_gap < 10:\n",
    "        step = int(step/min_gap)*10\n",
    "        dec=0\n",
    "    else:\n",
    "        n=0\n",
    "        while step/min_gap >= 10:\n",
    "            step = int(step/min_gap)\n",
    "            n += 1\n",
    "        step = int(step/min_gap)*(min_gap**(n+1))\n",
    "        dec=0\n",
    "        \n",
    "    y_max = step*(tick_num+1)        \n",
    "    ticks = np.round(np.arange(0, y_max+step, step),decimals=dec)\n",
    "    ax.set_yticks(ticks)\n",
    "    ax.set_ylim(ticks[0],ticks[-1]+step)\n",
    "    ax.set_yticklabels(ticks, fontsize=TCK_size)\n",
    "    ax.set_ylabel(label, fontsize=LAB_size)    \n",
    "    ax.yaxis.grid(True, linewidth=GRD_wid, color=GRD_clr, alpha=GRD_aph)\n",
    "    \n",
    "def setY_per(ax):\n",
    "    ticks=np.round(np.linspace(0, 100, num=11, endpoint=True), decimals=0)\n",
    "    ax.set_yticks(ticks)\n",
    "    ax.set_ylim(ticks[0],ticks[-1])\n",
    "    ax.set_yticklabels(ticks, fontsize=TCK_size)\n",
    "    ax.set_ylabel('Percentage (%)', fontsize=LAB_size)\n",
    "    ax.yaxis.grid(True, linewidth=GRD_wid, color=GRD_clr, alpha=GRD_aph)"
   ]
  }
 ],
 "metadata": {
  "kernelspec": {
   "display_name": "Python 3",
   "language": "python",
   "name": "python3"
  },
  "language_info": {
   "codemirror_mode": {
    "name": "ipython",
    "version": 3
   },
   "file_extension": ".py",
   "mimetype": "text/x-python",
   "name": "python",
   "nbconvert_exporter": "python",
   "pygments_lexer": "ipython3",
   "version": "3.8.5"
  },
  "toc": {
   "base_numbering": 1,
   "nav_menu": {},
   "number_sections": true,
   "sideBar": true,
   "skip_h1_title": false,
   "title_cell": "Table of Contents",
   "title_sidebar": "Contents",
   "toc_cell": false,
   "toc_position": {},
   "toc_section_display": true,
   "toc_window_display": false
  }
 },
 "nbformat": 4,
 "nbformat_minor": 2
}
