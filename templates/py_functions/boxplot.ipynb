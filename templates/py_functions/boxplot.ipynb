{
 "cells": [
  {
   "cell_type": "markdown",
   "metadata": {},
   "source": [
    "# 1."
   ]
  },
  {
   "cell_type": "code",
   "execution_count": null,
   "metadata": {},
   "outputs": [],
   "source": [
    "# CN_FoodConsumption\n",
    "\n",
    "df = percapita_norm.copy()\n",
    "items = ['Animal Products',]\n",
    "year = 2017\n",
    "\n",
    "df = df[['Area', 'Urban or Rural']+items]\n",
    "\n",
    "fig_size = (3,3)\n",
    "title = f\"Percentage of Animal Production in Daily intake, Compare between Urban and Raral ({year})\"\n",
    "fig = plt.figure(figsize = fig_size,dpi=300)\n",
    "plt.title(title,  fontsize=TIT_size, y=1.2)\n",
    "\n",
    "box = df.boxplot(column=items, by='Urban or Rural', layout=(2,4), return_type='axes', ax=plt.gca())\n",
    "\n",
    "path = f'{LOCAL_ROOT}/results/CN_FoodConsumption/img/'+f'02-{title}-Gross'+'.png'\n",
    "bbox = matplotlib.transforms.Bbox([[-0.5, 0], [fig_size[0]+1, fig_size[1]+1]])\n",
    "fig.savefig(path, format='png', transparent=False, dpi=300, bbox_inches =bbox)\n",
    "print('Img saved as: ' + path)\n",
    "\n"
   ]
  },
  {
   "cell_type": "markdown",
   "metadata": {},
   "source": [
    "# 2. "
   ]
  },
  {
   "cell_type": "code",
   "execution_count": null,
   "metadata": {},
   "outputs": [],
   "source": [
    "# CN_FoodConsumption\n",
    "\n",
    "df = percapita_norm.copy()\n",
    "items = ['Animal Products',]\n",
    "\n",
    "title = f\"Box plot\"\n",
    "fig = plt.figure(figsize = (3,3),dpi=300)\n",
    "plt.title(title,  fontsize=TIT_size)\n",
    "\n",
    "df_urb = df[df['Urban or Rural']=='Urban'][['Area']+items]\n",
    "df_urb[items] = df_urb[items]*100\n",
    "df_urb = df_urb.set_index(['Area'])\n",
    "\n",
    "df_urb = df_urb.transpose()\n",
    "\n",
    "box_urb = plt.boxplot(df_urb, vert=1, patch_artist=True, labels=items)\n",
    "\n",
    "for patch, color in zip(box_urb['boxes'], [GF_green]):\n",
    "    patch.set_facecolor(color)\n",
    "\n",
    "ax=plt.gca()\n",
    "#     ax.set_ylim(0,11)\n",
    "ax.set_xticks([])"
   ]
  }
 ],
 "metadata": {
  "kernelspec": {
   "display_name": "Python 3",
   "language": "python",
   "name": "python3"
  },
  "language_info": {
   "codemirror_mode": {
    "name": "ipython",
    "version": 3
   },
   "file_extension": ".py",
   "mimetype": "text/x-python",
   "name": "python",
   "nbconvert_exporter": "python",
   "pygments_lexer": "ipython3",
   "version": "3.7.5"
  }
 },
 "nbformat": 4,
 "nbformat_minor": 2
}
